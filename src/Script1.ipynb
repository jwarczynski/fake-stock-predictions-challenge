{
 "cells": [
  {
   "cell_type": "markdown",
   "id": "0c83d287",
   "metadata": {},
   "source": [
    "# Multiple-objective portfolio optimization"
   ]
  },
  {
   "cell_type": "markdown",
   "id": "b1461c77",
   "metadata": {},
   "source": [
    "# INTRODUCTION"
   ]
  },
  {
   "cell_type": "markdown",
   "id": "ed746013",
   "metadata": {},
   "source": [
    "-  Your task is to solve a multiple-objective portfolio optimization problem.\n",
    "-  Use the basic Markowitz's model from 1952 (see Lecture 1)\n",
    "-  Solve = construct Pareto front approximations.\n",
    "-  The dataset is the same as for the portfolio game part 1 (bundle1.zip).\n",
    "-  The dataset consists of the historical prices of 20 assets.\n",
    "-  The bundle contains 20 files (*.txt) linked to different assets.\n",
    "-  The name of the file suggests the asset's name.\n",
    "-  The structure of every file is as follows:\n",
    "1.  The first line contains the name of the asset.\n",
    "2. The second line provides the number of data points N.\n",
    "3. The following N lines are data points with the structure: time, price.\n",
    "-  The historical timeline for all assets is time $\\in$ [0,100].\n",
    "-  Future predictions should be calculated for time = 200.\n",
    "-  Goal: \n",
    "-  Load data, make predictions, and build the model. \n",
    "-  Illustrate your predictions (can be done in the jupyter notebook)\n",
    "-  Then, implement the WSM and ECM methods (see the tutorial on quadratic programming provided below). \n",
    "-  Run your implementations for different calculation limits (e.g., the number of weight vectors for WSM). Compare the methods' efficiency in finding unique Pareto optimal solutions. Finally, illustrate generated Pareto fronts."
   ]
  },
  {
   "cell_type": "markdown",
   "id": "a97f2ed7",
   "metadata": {},
   "source": [
    "# Short tutorial on the cvxopt library for quadratic programming"
   ]
  },
  {
   "cell_type": "code",
   "execution_count": 1,
   "id": "2ce0f140",
   "metadata": {
    "ExecuteTime": {
     "end_time": "2024-02-27T19:24:32.982798900Z",
     "start_time": "2024-02-27T19:24:32.633661Z"
    }
   },
   "outputs": [],
   "source": [
    "import numpy as np\n",
    "from cvxopt import matrix, solvers"
   ]
  },
  {
   "cell_type": "markdown",
   "id": "b5c7f50c",
   "metadata": {},
   "source": [
    "# QP Optimization Problem"
   ]
  },
  {
   "cell_type": "markdown",
   "id": "6f101f05",
   "metadata": {},
   "source": [
    "### General model:"
   ]
  },
  {
   "cell_type": "markdown",
   "id": "d539390b",
   "metadata": {},
   "source": [
    "$max$ $\\boldsymbol{cx} - \\dfrac{1}{2}\\boldsymbol{x}^T\\boldsymbol{Qx}$ <br>\n",
    "$s.t.$ <br>\n",
    "$\\boldsymbol{Gx} \\leq \\boldsymbol{h}$ <br>\n",
    "$\\boldsymbol{x} \\geq \\boldsymbol{0}$"
   ]
  },
  {
   "cell_type": "markdown",
   "id": "6cfd769b",
   "metadata": {},
   "source": [
    "### But the library uses the following form:"
   ]
  },
  {
   "cell_type": "markdown",
   "id": "74f98165",
   "metadata": {},
   "source": [
    "$min$ $\\boldsymbol{cx} + \\dfrac{1}{2}\\boldsymbol{x}^T\\boldsymbol{Qx}$ <br>\n",
    "$s.t.$ <br>\n",
    "$\\boldsymbol{Gx} \\leq \\boldsymbol{h}$ <br>\n",
    "$\\boldsymbol{Ax} = \\boldsymbol{b}$ <br>"
   ]
  },
  {
   "cell_type": "markdown",
   "id": "1ebb5d77",
   "metadata": {},
   "source": [
    "### Exmple"
   ]
  },
  {
   "cell_type": "markdown",
   "id": "4af73bb6",
   "metadata": {},
   "source": [
    "$min$ $2x^2_1+x_2^2+x_1x_2+x_1+x_2$ <br>\n",
    "$s.t.$ <br>\n",
    "$x_1 \\geq 0$<br>\n",
    "$x_2 \\geq 0$<br>\n",
    "$x_1 + x_2 = 1$<br>"
   ]
  },
  {
   "cell_type": "markdown",
   "id": "9e9eca3b",
   "metadata": {},
   "source": [
    "### Hence:"
   ]
  },
  {
   "cell_type": "code",
   "execution_count": 2,
   "id": "d312e739",
   "metadata": {
    "ExecuteTime": {
     "end_time": "2024-02-27T19:24:32.983306100Z",
     "start_time": "2024-02-27T19:24:32.983306100Z"
    }
   },
   "outputs": [],
   "source": [
    "Q = matrix([ [4.0, 1.0], [1.0, 2.0] ]) ## [4, 1] is 1st column, not row!"
   ]
  },
  {
   "cell_type": "code",
   "execution_count": 3,
   "id": "51bed5af",
   "metadata": {
    "ExecuteTime": {
     "end_time": "2024-02-27T19:24:32.991525500Z",
     "start_time": "2024-02-27T19:24:32.988514100Z"
    }
   },
   "outputs": [],
   "source": [
    "c = matrix([1.0, 1.0]) ### (1, 2) = dimensions (1 row and 2 columns)"
   ]
  },
  {
   "cell_type": "code",
   "execution_count": 4,
   "id": "0cdbd334",
   "metadata": {
    "ExecuteTime": {
     "end_time": "2024-02-27T19:24:32.995033100Z",
     "start_time": "2024-02-27T19:24:32.994526200Z"
    }
   },
   "outputs": [],
   "source": [
    "A = matrix([1.0, 1.0], (1,2)) ### (1, 2) = dimensions (1 row and 2 columns)"
   ]
  },
  {
   "cell_type": "code",
   "execution_count": 5,
   "id": "699075a5",
   "metadata": {
    "ExecuteTime": {
     "end_time": "2024-02-27T19:24:33.000628Z",
     "start_time": "2024-02-27T19:24:32.995033100Z"
    }
   },
   "outputs": [],
   "source": [
    "b = matrix(1.0) "
   ]
  },
  {
   "cell_type": "code",
   "execution_count": 6,
   "id": "9a5b19b4",
   "metadata": {
    "ExecuteTime": {
     "end_time": "2024-02-27T19:24:33.073497200Z",
     "start_time": "2024-02-27T19:24:33.000628Z"
    }
   },
   "outputs": [],
   "source": [
    "G = matrix([[-1.0,0.0],[0.0,-1.0]]) ### multiplied both sides by -1"
   ]
  },
  {
   "cell_type": "code",
   "execution_count": 7,
   "id": "e50610ff",
   "metadata": {
    "ExecuteTime": {
     "end_time": "2024-02-27T19:24:33.073497200Z",
     "start_time": "2024-02-27T19:24:33.011091300Z"
    }
   },
   "outputs": [],
   "source": [
    "h = matrix([0.0,0.0]) ### multiplied both sides by -1"
   ]
  },
  {
   "cell_type": "code",
   "execution_count": 8,
   "id": "aa92370e",
   "metadata": {
    "ExecuteTime": {
     "end_time": "2024-02-27T19:24:33.088018900Z",
     "start_time": "2024-02-27T19:24:33.017684800Z"
    }
   },
   "outputs": [
    {
     "name": "stdout",
     "output_type": "stream",
     "text": [
      "     pcost       dcost       gap    pres   dres\n",
      " 0:  1.8889e+00  7.7778e-01  1e+00  2e-16  2e+00\n",
      " 1:  1.8769e+00  1.8320e+00  4e-02  1e-16  6e-02\n",
      " 2:  1.8750e+00  1.8739e+00  1e-03  2e-16  5e-04\n",
      " 3:  1.8750e+00  1.8750e+00  1e-05  1e-16  5e-06\n",
      " 4:  1.8750e+00  1.8750e+00  1e-07  3e-16  5e-08\n",
      "Optimal solution found.\n"
     ]
    }
   ],
   "source": [
    "solQP=solvers.qp(Q, c, G, h, A, b)"
   ]
  },
  {
   "cell_type": "code",
   "execution_count": 9,
   "id": "8e136a0e",
   "metadata": {
    "ExecuteTime": {
     "end_time": "2024-02-27T19:24:33.089100300Z",
     "start_time": "2024-02-27T19:24:33.078480100Z"
    }
   },
   "outputs": [
    {
     "name": "stdout",
     "output_type": "stream",
     "text": [
      "dict_keys(['x', 'y', 's', 'z', 'status', 'gap', 'relative gap', 'primal objective', 'dual objective', 'primal infeasibility', 'dual infeasibility', 'primal slack', 'dual slack', 'iterations'])\n"
     ]
    }
   ],
   "source": [
    "print(solQP.keys())"
   ]
  },
  {
   "cell_type": "code",
   "execution_count": 10,
   "id": "1954e8ba",
   "metadata": {
    "ExecuteTime": {
     "end_time": "2024-02-27T19:24:33.089100300Z",
     "start_time": "2024-02-27T19:24:33.084514700Z"
    }
   },
   "outputs": [
    {
     "name": "stdout",
     "output_type": "stream",
     "text": [
      "[ 2.50e-01]\n",
      "[ 7.50e-01]\n",
      "\n",
      "1.875000000000018\n"
     ]
    }
   ],
   "source": [
    "print(solQP['x'])\n",
    "print(solQP['primal objective'])"
   ]
  },
  {
   "cell_type": "markdown",
   "id": "44dc8c5d",
   "metadata": {},
   "source": [
    "# We can also solve LP problems:"
   ]
  },
  {
   "cell_type": "markdown",
   "id": "fb07630b",
   "metadata": {},
   "source": [
    "$min$ $\\boldsymbol{c}\\boldsymbol{x}$ <br>\n",
    "$s.t.$ <br>\n",
    "$\\boldsymbol{Gx} \\leq \\boldsymbol{h}$ <br>\n",
    "$\\boldsymbol{Ax} = \\boldsymbol{b}$ (optional)"
   ]
  },
  {
   "cell_type": "markdown",
   "id": "cdccac67",
   "metadata": {},
   "source": [
    "### Exmple"
   ]
  },
  {
   "cell_type": "markdown",
   "id": "0e439d1a",
   "metadata": {},
   "source": [
    "$min$ $2x_1+x_2$ <br>\n",
    "$s.t.$ <br>\n",
    "$-x_1 +x_2 \\leq 1$ <br>\n",
    "$x_1 + x_2 \\geq 2$ <br>\n",
    "$x_2 \\geq 0$<br>\n",
    "$x_1 - 2x_2 \\leq 4$"
   ]
  },
  {
   "cell_type": "code",
   "execution_count": 11,
   "id": "cd985a50",
   "metadata": {
    "ExecuteTime": {
     "end_time": "2024-02-27T19:24:33.097473100Z",
     "start_time": "2024-02-27T19:24:33.089100300Z"
    }
   },
   "outputs": [
    {
     "name": "stdout",
     "output_type": "stream",
     "text": [
      "     pcost       dcost       gap    pres   dres   k/t\n",
      " 0:  2.6471e+00 -7.0588e-01  2e+01  8e-01  2e+00  1e+00\n",
      " 1:  3.0726e+00  2.8437e+00  1e+00  1e-01  2e-01  3e-01\n",
      " 2:  2.4891e+00  2.4808e+00  1e-01  1e-02  2e-02  5e-02\n",
      " 3:  2.4999e+00  2.4998e+00  1e-03  1e-04  2e-04  5e-04\n",
      " 4:  2.5000e+00  2.5000e+00  1e-05  1e-06  2e-06  5e-06\n",
      " 5:  2.5000e+00  2.5000e+00  1e-07  1e-08  2e-08  5e-08\n",
      "Optimal solution found.\n"
     ]
    }
   ],
   "source": [
    "G = matrix([ [-1.0, -1.0, 0.0, 1.0], [1.0, -1.0, -1.0, -2.0] ])\n",
    "h = matrix([ 1.0, -2.0, 0.0, 4.0 ])\n",
    "c = matrix([ 2.0, 1.0 ])\n",
    "solLP = solvers.lp(c,G,h)  \n",
    "###!!!! OPTIONALLY A and b can be provided (equality constraints) as in solQP=solvers.qp(Q, c, G, h, A, b)"
   ]
  },
  {
   "cell_type": "code",
   "execution_count": 12,
   "id": "15e6bb0b",
   "metadata": {
    "ExecuteTime": {
     "end_time": "2024-02-27T19:24:33.322641500Z",
     "start_time": "2024-02-27T19:24:33.094425300Z"
    }
   },
   "outputs": [
    {
     "name": "stdout",
     "output_type": "stream",
     "text": [
      "dict_keys(['x', 'y', 's', 'z', 'status', 'gap', 'relative gap', 'primal objective', 'dual objective', 'primal infeasibility', 'dual infeasibility', 'primal slack', 'dual slack', 'residual as primal infeasibility certificate', 'residual as dual infeasibility certificate', 'iterations'])\n"
     ]
    }
   ],
   "source": [
    "print(solLP.keys())"
   ]
  },
  {
   "cell_type": "code",
   "execution_count": 13,
   "id": "debd4e7c",
   "metadata": {
    "ExecuteTime": {
     "end_time": "2024-02-27T19:24:33.338516800Z",
     "start_time": "2024-02-27T19:24:33.101620500Z"
    }
   },
   "outputs": [
    {
     "name": "stdout",
     "output_type": "stream",
     "text": [
      "[ 5.00e-01]\n",
      "[ 1.50e+00]\n",
      "\n",
      "2.4999999895543077\n"
     ]
    }
   ],
   "source": [
    "print(solLP['x'])\n",
    "print(solLP['primal objective'])"
   ]
  },
  {
   "cell_type": "markdown",
   "id": "e5fe7410",
   "metadata": {},
   "source": [
    "# Portfolio optimization"
   ]
  },
  {
   "cell_type": "code",
   "execution_count": 14,
   "id": "3363d5e8",
   "metadata": {
    "ExecuteTime": {
     "end_time": "2024-02-27T19:24:33.338516800Z",
     "start_time": "2024-02-27T19:24:33.110161200Z"
    }
   },
   "outputs": [],
   "source": [
    "### SOLVE HERE"
   ]
  },
  {
   "cell_type": "code",
   "execution_count": 15,
   "id": "6d26dd6f",
   "metadata": {
    "ExecuteTime": {
     "end_time": "2024-02-27T19:24:37.132518400Z",
     "start_time": "2024-02-27T19:24:33.112372900Z"
    }
   },
   "outputs": [],
   "source": [
    "import os\n",
    "import matplotlib.pyplot as plt\n",
    "import numpy as np\n",
    "from sklearn.linear_model import LinearRegression"
   ]
  },
  {
   "cell_type": "markdown",
   "source": [
    "### Load data"
   ],
   "metadata": {
    "collapsed": false
   }
  },
  {
   "cell_type": "code",
   "execution_count": 16,
   "outputs": [],
   "source": [
    "folder_path = \"Bundle1\"\n",
    "\n",
    "asset_data = {}\n",
    "\n",
    "for filename in os.listdir(folder_path):\n",
    "    if filename.endswith(\".txt\"):\n",
    "        file_path = os.path.join(folder_path, filename)\n",
    "        measurements = []\n",
    "\n",
    "        with open(file_path, 'r') as file:\n",
    "            lines = file.readlines()\n",
    "            asset_name = lines[0].strip()\n",
    "            num_measurements = int(lines[1])\n",
    "\n",
    "            for line in lines[2:]:\n",
    "                time, value = map(lambda x: int(x) if '.' not in x else float(x), line.strip().split())\n",
    "                measurements.append((time, value))\n",
    "\n",
    "        asset_data[asset_name] = measurements"
   ],
   "metadata": {
    "collapsed": false,
    "ExecuteTime": {
     "end_time": "2024-02-27T19:24:37.280214400Z",
     "start_time": "2024-02-27T19:24:37.132518400Z"
    }
   }
  },
  {
   "cell_type": "markdown",
   "source": [
    "### Make predictions"
   ],
   "metadata": {
    "collapsed": false
   }
  },
  {
   "cell_type": "code",
   "execution_count": 17,
   "outputs": [],
   "source": [
    "asset_predictions = {}\n",
    "\n",
    "for asset_name, measurements in asset_data.items():\n",
    "    times = [point[0] for point in measurements]\n",
    "    prices = [point[1] for point in measurements]\n",
    "    X = np.array(times).reshape(-1, 1)\n",
    "    y = np.array(prices)\n",
    "    model = LinearRegression()\n",
    "    model.fit(X, y)\n",
    "\n",
    "    # Predict stock prices for time 101 to 200\n",
    "    future_times = np.arange(101, 201).reshape(-1, 1)\n",
    "    predicted_prices = model.predict(future_times)\n",
    "    asset_predictions[asset_name] = predicted_prices"
   ],
   "metadata": {
    "collapsed": false,
    "ExecuteTime": {
     "end_time": "2024-02-27T19:24:37.305541600Z",
     "start_time": "2024-02-27T19:24:37.295862200Z"
    }
   }
  },
  {
   "cell_type": "markdown",
   "source": [
    "### Predictions of expected returns"
   ],
   "metadata": {
    "collapsed": false
   }
  },
  {
   "cell_type": "code",
   "execution_count": 18,
   "outputs": [],
   "source": [
    "expected_values = {}\n",
    "\n",
    "for asset_name, measurements in asset_data.items():\n",
    "    price_t100 = next((price for time, price in measurements if time == 100), None)\n",
    "    predicted_price_t200 = asset_predictions[asset_name][-1]\n",
    "\n",
    "    if price_t100 is not None:\n",
    "        expected_return = (predicted_price_t200 - price_t100) / price_t100\n",
    "    else:\n",
    "        expected_return = None\n",
    "\n",
    "    expected_values[asset_name] = expected_return"
   ],
   "metadata": {
    "collapsed": false,
    "ExecuteTime": {
     "end_time": "2024-02-27T19:24:37.310600500Z",
     "start_time": "2024-02-27T19:24:37.305541600Z"
    }
   }
  },
  {
   "cell_type": "markdown",
   "source": [
    "### Calcualte moving standard deviation"
   ],
   "metadata": {
    "collapsed": false
   }
  },
  {
   "cell_type": "code",
   "execution_count": 19,
   "outputs": [],
   "source": [
    "asset_std_devs = {}\n",
    "\n",
    "# Window size for moving standard deviation\n",
    "window_size = 10  # You can adjust this as needed\n",
    "\n",
    "for asset_name, measurements in asset_data.items():\n",
    "    prices = [point[1] for point in measurements]\n",
    "    std_devs = np.zeros(len(prices) - window_size + 1)\n",
    "\n",
    "    for i in range(len(prices) - window_size + 1):\n",
    "        window = prices[i:i + window_size]\n",
    "        std_devs[i] = np.std(window)\n",
    "\n",
    "    asset_std_devs[asset_name] = std_devs"
   ],
   "metadata": {
    "collapsed": false,
    "ExecuteTime": {
     "end_time": "2024-02-27T19:24:37.362598900Z",
     "start_time": "2024-02-27T19:24:37.310600500Z"
    }
   }
  },
  {
   "cell_type": "markdown",
   "source": [
    "### Calculate covariance matrix"
   ],
   "metadata": {
    "collapsed": false
   }
  },
  {
   "cell_type": "code",
   "execution_count": 20,
   "outputs": [],
   "source": [
    "# Calculate covariance matrix between asset standard deviations\n",
    "num_assets = len(asset_std_devs)\n",
    "covariance_matrix = np.zeros((num_assets, num_assets))\n",
    "\n",
    "for i, (asset1, std_dev1) in enumerate(asset_std_devs.items()):\n",
    "    for j, (asset2, std_dev2) in enumerate(asset_std_devs.items()):\n",
    "        covariance_matrix[i, j] = np.cov(std_dev1, std_dev2)[0, 1]"
   ],
   "metadata": {
    "collapsed": false,
    "ExecuteTime": {
     "end_time": "2024-02-27T19:24:37.371042Z",
     "start_time": "2024-02-27T19:24:37.349227900Z"
    }
   }
  },
  {
   "cell_type": "markdown",
   "source": [
    "### Display sample data"
   ],
   "metadata": {
    "collapsed": false
   }
  },
  {
   "cell_type": "code",
   "execution_count": 21,
   "outputs": [
    {
     "data": {
      "text/plain": "<Figure size 1000x600 with 1 Axes>",
      "image/png": "[encoded data removed]"
     },
     "metadata": {},
     "output_type": "display_data"
    }
   ],
   "source": [
    "plt.figure(figsize=(10, 6))\n",
    "NUM_ASSETS = 2\n",
    "\n",
    "for i, (asset, data) in enumerate(asset_data.items()):\n",
    "    if i == NUM_ASSETS:\n",
    "        break\n",
    "    times = [point[0] for point in data]\n",
    "    prices = [point[1] for point in data]\n",
    "    plt.plot(times, prices, label=asset)\n",
    "\n",
    "    # Plot predictions\n",
    "    future_times = np.arange(101, 201)\n",
    "    predicted_prices = asset_predictions[asset]\n",
    "    plt.plot(future_times, predicted_prices, linestyle='--', label=asset + ' (predicted)')\n",
    "\n",
    "plt.xlabel('Time')\n",
    "plt.ylabel('Stock Price')\n",
    "plt.title('Stock Prices Over Time with Predictions')\n",
    "plt.legend()\n",
    "plt.grid(True)\n",
    "plt.show()\n"
   ],
   "metadata": {
    "collapsed": false,
    "ExecuteTime": {
     "end_time": "2024-02-27T19:24:37.633063800Z",
     "start_time": "2024-02-27T19:24:37.374246900Z"
    }
   }
  },
  {
   "cell_type": "markdown",
   "source": [
    "$$\n",
    "\\[\n",
    "\\text{min} = -k1\\sum_{i=1}^{n} w_i r_i + k2\\sum_{i=1}^{n} \\sum_{j=1}^{n} w_i w_j \\sigma_{ij}\n",
    "\\]\n",
    "\\\\ \\text{s.t.} \\\\\n",
    "\\[\n",
    "\\sum_{i=1}^{n} w_i = 1, \\quad w_i  \\in [0,1]  \\quad \\text{for } i = 1, ..., n\n",
    "\\]\n",
    "\n",
    "$$"
   ],
   "metadata": {
    "collapsed": false
   }
  },
  {
   "cell_type": "code",
   "execution_count": 22,
   "outputs": [
    {
     "name": "stdout",
     "output_type": "stream",
     "text": [
      "     pcost       dcost       gap    pres   dres\n",
      " 0: -1.1263e+01 -1.9149e+00  1e+02  2e+01  3e+00\n",
      " 1: -9.9632e-02 -1.8255e+00  3e+00  9e-02  1e-02\n",
      " 2: -2.3026e-01 -8.8013e-01  8e-01  3e-02  4e-03\n",
      " 3: -5.6041e-01 -9.8264e-01  5e-01  9e-03  1e-03\n",
      " 4: -8.6174e-01 -8.7364e-01  1e-02  1e-04  2e-05\n",
      " 5: -8.6586e-01 -8.6598e-01  1e-04  1e-06  2e-07\n",
      " 6: -8.6590e-01 -8.6590e-01  1e-06  1e-08  2e-09\n",
      " 7: -8.6590e-01 -8.6590e-01  1e-08  1e-10  2e-11\n",
      "Optimal solution found.\n",
      "Optimal Weights:\n",
      "[[1.53458634e-10]\n",
      " [1.76118137e-10]\n",
      " [1.79021284e-10]\n",
      " [1.47928370e-10]\n",
      " [4.71639585e-10]\n",
      " [3.68286768e-10]\n",
      " [9.09438896e-11]\n",
      " [1.52947403e-10]\n",
      " [2.97611004e-10]\n",
      " [9.99999993e-01]\n",
      " [1.70063321e-10]\n",
      " [1.43488577e-10]\n",
      " [2.56869896e-10]\n",
      " [2.19727330e-10]\n",
      " [2.82509121e-09]\n",
      " [1.74292682e-10]\n",
      " [2.55530708e-10]\n",
      " [1.48442528e-10]\n",
      " [1.42040437e-10]\n",
      " [1.89992251e-10]]\n",
      "Optimal Portfolio Return: 0.8659000350497377\n"
     ]
    }
   ],
   "source": [
    "from cvxopt import matrix, solvers\n",
    "\n",
    "expected_returns = np.array([expected_values[asset] for asset in asset_data.keys()])\n",
    "# Construct the matrices and vectors for the optimization problem\n",
    "c = matrix(-expected_returns)  # Vector of expected returns\n",
    "Sigma = matrix(covariance_matrix)  # Covariance matrix\n",
    "n = len(expected_returns)\n",
    "Q = 2 * Sigma  # Quadratic term in the objective function\n",
    "\n",
    "# Equality constraint: sum of weights = 1\n",
    "A = matrix(1.0, (1, n))\n",
    "b = matrix(1.0)\n",
    "\n",
    "# Inequality constraints: weights >= 0\n",
    "G = matrix(-np.eye(n))\n",
    "h = matrix(0.0, (n, 1))\n",
    "\n",
    "# Solve the quadratic programming problem\n",
    "sol = solvers.qp(Q, c, G, h, A, b)\n",
    "\n",
    "# Extract the optimal weights from the solution\n",
    "optimal_weights = np.array(sol['x'])\n",
    "\n",
    "print(\"Optimal Weights:\")\n",
    "print(optimal_weights)\n",
    "print(\"Optimal Portfolio Return:\", -sol['primal objective'])\n"
   ],
   "metadata": {
    "collapsed": false,
    "ExecuteTime": {
     "end_time": "2024-02-27T19:24:37.680511900Z",
     "start_time": "2024-02-27T19:24:37.634879400Z"
    }
   }
  },
  {
   "cell_type": "code",
   "execution_count": 23,
   "outputs": [],
   "source": [
    "def optimize_portfolio(expected_returns, covariance_matrix, k1, k2):\n",
    "    n = len(expected_returns)\n",
    "\n",
    "    c = matrix(-k1 * np.array(expected_returns))  # Vector of expected returns\n",
    "    Sigma = matrix(k2 * np.array(covariance_matrix))  # Covariance matrix\n",
    "    Q = 2 * Sigma  # Quadratic term in the objective function\n",
    "\n",
    "    # Equality constraint: sum of weights = 1\n",
    "    A = matrix(1.0, (1, n))\n",
    "    b = matrix(1.0)\n",
    "\n",
    "    # Inequality constraints: weights >= 0\n",
    "    G = matrix(-np.eye(n))\n",
    "    h = matrix(0.0, (n, 1))\n",
    "\n",
    "    sol = solvers.qp(Q, c, G, h, A, b)\n",
    "\n",
    "    # Extract the optimal weights from the solution\n",
    "    optimal_weights = np.array(sol['x'])\n",
    "    portfolio_return = -sol['primal objective']\n",
    "\n",
    "    return optimal_weights, portfolio_return\n",
    "\n",
    "def generate_k_values(n=10):\n",
    "    \"\"\"\n",
    "    Generate k1 and k2 values based on a specific pattern.\n",
    "\n",
    "    Parameters:\n",
    "        - M (int): Number of objectives.\n",
    "        - n (int): Number of times a dimension is split.\n",
    "\n",
    "    Returns:\n",
    "        - List of tuples: Each tuple contains k1 and k2 values.\n",
    "    \"\"\"\n",
    "    k_values = []\n",
    "    for j1 in range(n+1):\n",
    "        k1 = 1 / n * j1\n",
    "        k2 = 1 - k1\n",
    "        k_values.append((k1, k2))\n",
    "    return k_values\n",
    "\n",
    "def optimize_portfolio_k(expected_returns, covariance_matrix, k_values):\n",
    "    optimal_weights_list = []\n",
    "    portfolio_return_list = []\n",
    "\n",
    "    for k1, k2 in k_values:\n",
    "        optimal_weights, portfolio_return = optimize_portfolio(expected_returns, covariance_matrix, k1, k2)\n",
    "        optimal_weights_list.append(optimal_weights)\n",
    "        portfolio_return_list.append(portfolio_return)\n",
    "\n",
    "    return optimal_weights_list, portfolio_return_list\n"
   ],
   "metadata": {
    "collapsed": false,
    "ExecuteTime": {
     "end_time": "2024-02-27T19:24:37.680511900Z",
     "start_time": "2024-02-27T19:24:37.652977600Z"
    }
   }
  },
  {
   "cell_type": "code",
   "execution_count": 24,
   "outputs": [
    {
     "name": "stdout",
     "output_type": "stream",
     "text": [
      "     pcost       dcost       gap    pres   dres\n",
      " 0:  1.7435e-04 -1.0011e+00  1e+00  2e-16  5e+00\n",
      " 1:  1.7363e-04 -1.1077e-02  1e-02  3e-17  5e-02\n",
      " 2:  1.3005e-04 -9.5854e-04  1e-03  4e-17  5e-03\n",
      " 3:  3.3744e-05 -2.3401e-04  3e-04  4e-17  1e-18\n",
      " 4:  2.3140e-05 -3.0092e-05  5e-05  2e-16  5e-19\n",
      " 5:  1.6677e-05  1.0319e-05  6e-06  2e-16  5e-19\n",
      " 6:  1.5609e-05  1.5088e-05  5e-07  5e-17  4e-19\n",
      " 7:  1.5432e-05  1.5386e-05  5e-08  1e-16  4e-19\n",
      "Optimal solution found.\n",
      "     pcost       dcost       gap    pres   dres\n",
      " 0: -8.8809e-02 -1.0874e+00  3e+01  5e+00  5e+00\n",
      " 1:  1.8123e-02 -1.0023e+00  1e+00  9e-16  2e-15\n",
      " 2:  1.1381e-02 -9.6151e-02  1e-01  2e-16  1e-15\n",
      " 3: -6.7608e-02 -1.5366e-01  9e-02  3e-16  5e-16\n",
      " 4: -7.9754e-02 -8.2861e-02  3e-03  3e-18  2e-16\n",
      " 5: -8.1973e-02 -8.2054e-02  8e-05  2e-16  3e-16\n",
      " 6: -8.2022e-02 -8.2027e-02  5e-06  2e-16  2e-16\n",
      " 7: -8.2023e-02 -8.2024e-02  3e-07  2e-16  1e-16\n",
      " 8: -8.2023e-02 -8.2023e-02  3e-09  2e-16  2e-16\n",
      "Optimal solution found.\n",
      "     pcost       dcost       gap    pres   dres\n",
      " 0: -4.0904e-01 -1.1757e+00  4e+01  7e+00  6e+00\n",
      " 1:  2.5515e-02 -1.0984e+00  1e+00  2e-15  2e-15\n",
      " 2:  6.5340e-03 -1.8334e-01  2e-01  3e-16  1e-15\n",
      " 3: -8.1640e-02 -2.4919e-01  2e-01  3e-16  5e-16\n",
      " 4: -1.5958e-01 -1.7056e-01  1e-02  4e-16  4e-16\n",
      " 5: -1.6965e-01 -1.6976e-01  1e-04  2e-16  3e-16\n",
      " 6: -1.6975e-01 -1.6975e-01  1e-06  2e-16  3e-16\n",
      " 7: -1.6975e-01 -1.6975e-01  1e-08  3e-16  4e-16\n",
      "Optimal solution found.\n",
      "     pcost       dcost       gap    pres   dres\n",
      " 0: -9.6128e-01 -1.2642e+00  5e+01  8e+00  6e+00\n",
      " 1:  2.7110e-02 -1.1923e+00  1e+00  8e-15  2e-15\n",
      " 2: -7.4892e-03 -2.7052e-01  3e-01  1e-15  1e-15\n",
      " 3: -1.0455e-01 -3.3750e-01  2e-01  9e-16  6e-16\n",
      " 4: -2.5219e-01 -2.6577e-01  1e-02  3e-16  4e-16\n",
      " 5: -2.5741e-01 -2.5757e-01  2e-04  2e-16  7e-16\n",
      " 6: -2.5748e-01 -2.5749e-01  2e-06  1e-16  4e-16\n",
      " 7: -2.5748e-01 -2.5748e-01  2e-08  8e-23  6e-16\n",
      "Optimal solution found.\n",
      "     pcost       dcost       gap    pres   dres\n",
      " 0: -1.7463e+00 -1.3529e+00  6e+01  9e+00  5e+00\n",
      " 1:  2.4774e-02 -1.2846e+00  1e+00  1e-15  2e-15\n",
      " 2: -2.8829e-02 -3.5769e-01  3e-01  3e-16  1e-15\n",
      " 3: -1.4683e-01 -4.3021e-01  3e-01  3e-16  6e-16\n",
      " 4: -3.4069e-01 -3.6005e-01  2e-02  3e-16  7e-16\n",
      " 5: -3.4514e-01 -3.4537e-01  2e-04  7e-19  8e-16\n",
      " 6: -3.4522e-01 -3.4522e-01  2e-06  1e-16  6e-16\n",
      " 7: -3.4522e-01 -3.4522e-01  2e-08  1e-16  6e-16\n",
      "Optimal solution found.\n",
      "     pcost       dcost       gap    pres   dres\n",
      " 0: -2.7650e+00 -1.4413e+00  7e+01  1e+01  4e+00\n",
      " 1:  1.9425e-02 -1.3759e+00  1e+00  1e-14  8e-16\n",
      " 2: -5.6641e-02 -4.4488e-01  4e-01  3e-15  7e-16\n",
      " 3: -2.0176e-01 -5.2210e-01  3e-01  2e-15  6e-16\n",
      " 4: -4.2858e-01 -4.4960e-01  2e-02  2e-16  6e-16\n",
      " 5: -4.3288e-01 -4.3312e-01  2e-04  4e-16  6e-16\n",
      " 6: -4.3295e-01 -4.3295e-01  2e-06  1e-16  4e-16\n",
      " 7: -4.3295e-01 -4.3295e-01  2e-08  3e-16  4e-16\n",
      "Optimal solution found.\n",
      "     pcost       dcost       gap    pres   dres\n",
      " 0: -4.0180e+00 -1.5294e+00  9e+01  1e+01  4e+00\n",
      " 1:  5.4132e-03 -1.4664e+00  2e+00  2e-02  5e-03\n",
      " 2: -8.3924e-02 -5.3210e-01  5e-01  5e-03  2e-03\n",
      " 3: -2.5987e-01 -6.1587e-01  4e-01  3e-03  9e-04\n",
      " 4: -5.1615e-01 -5.3687e-01  2e-02  4e-05  1e-05\n",
      " 5: -5.2062e-01 -5.2084e-01  2e-04  5e-07  1e-07\n",
      " 6: -5.2068e-01 -5.2068e-01  2e-06  5e-09  1e-09\n",
      " 7: -5.2068e-01 -5.2068e-01  2e-08  5e-11  1e-11\n",
      "Optimal solution found.\n",
      "     pcost       dcost       gap    pres   dres\n",
      " 0: -5.5063e+00 -1.6167e+00  1e+02  1e+01  3e+00\n",
      " 1: -1.3777e-02 -1.5564e+00  2e+00  4e-02  9e-03\n",
      " 2: -1.1502e-01 -6.1934e-01  5e-01  1e-02  3e-03\n",
      " 3: -3.2418e-01 -7.0902e-01  4e-01  6e-03  1e-03\n",
      " 4: -6.0384e-01 -6.2317e-01  2e-02  8e-05  2e-05\n",
      " 5: -6.0836e-01 -6.0856e-01  2e-04  8e-07  2e-07\n",
      " 6: -6.0841e-01 -6.0842e-01  2e-06  8e-09  2e-09\n",
      " 7: -6.0842e-01 -6.0842e-01  2e-08  8e-11  2e-11\n",
      "Optimal solution found.\n",
      "     pcost       dcost       gap    pres   dres\n",
      " 0: -7.2306e+00 -1.7030e+00  1e+02  1e+01  3e+00\n",
      " 1: -3.7441e-02 -1.6459e+00  2e+00  5e-02  1e-02\n",
      " 2: -1.4999e-01 -7.0659e-01  6e-01  2e-02  3e-03\n",
      " 3: -3.9393e-01 -8.0123e-01  4e-01  8e-03  2e-03\n",
      " 4: -6.9159e-01 -7.0919e-01  2e-02  1e-04  2e-05\n",
      " 5: -6.9610e-01 -6.9628e-01  2e-04  1e-06  2e-07\n",
      " 6: -6.9615e-01 -6.9615e-01  2e-06  1e-08  2e-09\n",
      " 7: -6.9615e-01 -6.9615e-01  2e-08  1e-10  2e-11\n",
      "Optimal solution found.\n",
      "     pcost       dcost       gap    pres   dres\n",
      " 0: -9.1918e+00 -1.7881e+00  1e+02  2e+01  3e+00\n",
      " 1: -6.5399e-02 -1.7350e+00  2e+00  7e-02  1e-02\n",
      " 2: -1.8847e-01 -7.9386e-01  7e-01  2e-02  4e-03\n",
      " 3: -4.6801e-01 -8.9254e-01  5e-01  9e-03  2e-03\n",
      " 4: -7.7936e-01 -7.9528e-01  2e-02  1e-04  2e-05\n",
      " 5: -7.8383e-01 -7.8399e-01  2e-04  1e-06  2e-07\n",
      " 6: -7.8388e-01 -7.8388e-01  2e-06  1e-08  2e-09\n",
      " 7: -7.8388e-01 -7.8388e-01  2e-08  1e-10  2e-11\n",
      "Optimal solution found.\n",
      "     pcost       dcost       gap    pres   dres\n",
      " 0: -1.1391e+01 -1.8716e+00  2e+02  2e+01  3e+00\n",
      " 1: -9.7531e-02 -1.8237e+00  3e+00  9e-02  1e-02\n",
      " 2: -2.3020e-01 -8.8113e-01  8e-01  3e-02  4e-03\n",
      " 3: -5.4541e-01 -9.8301e-01  5e-01  1e-02  2e-03\n",
      " 4: -8.6718e-01 -8.8155e-01  2e-02  1e-04  2e-05\n",
      " 5: -8.7157e-01 -8.7171e-01  2e-04  1e-06  2e-07\n",
      " 6: -8.7161e-01 -8.7161e-01  2e-06  1e-08  2e-09\n",
      " 7: -8.7161e-01 -8.7161e-01  2e-08  1e-10  2e-11\n",
      "Optimal solution found.\n",
      "k1 = 0.0, k2 = 1.0, Portfolio Return = -1.5431506966278038e-05\n",
      "k1 = 0.1, k2 = 0.9, Portfolio Return = 0.08202338649023794\n",
      "k1 = 0.2, k2 = 0.8, Portfolio Return = 0.16975194965426077\n",
      "k1 = 0.30000000000000004, k2 = 0.7, Portfolio Return = 0.25748463947823674\n",
      "k1 = 0.4, k2 = 0.6, Portfolio Return = 0.3452173256833879\n",
      "k1 = 0.5, k2 = 0.5, Portfolio Return = 0.43295001295948377\n",
      "k1 = 0.6000000000000001, k2 = 0.3999999999999999, Portfolio Return = 0.5206827000473219\n",
      "k1 = 0.7000000000000001, k2 = 0.29999999999999993, Portfolio Return = 0.6084153871881299\n",
      "k1 = 0.8, k2 = 0.19999999999999996, Portfolio Return = 0.696148074224038\n",
      "k1 = 0.9, k2 = 0.09999999999999998, Portfolio Return = 0.7838807611121439\n",
      "k1 = 1.0, k2 = 0.0, Portfolio Return = 0.8716134479369526\n"
     ]
    }
   ],
   "source": [
    "optimal_weights_list, portfolio_return_list = optimize_portfolio_k(expected_returns, covariance_matrix, generate_k_values())\n",
    "\n",
    "# Display the results\n",
    "for i, (k1, k2) in enumerate(generate_k_values()):\n",
    "    print(f\"k1 = {k1}, k2 = {k2}, Portfolio Return = {portfolio_return_list[i]}\")\n"
   ],
   "metadata": {
    "collapsed": false,
    "ExecuteTime": {
     "end_time": "2024-02-27T19:24:38.066153400Z",
     "start_time": "2024-02-27T19:24:37.657320100Z"
    }
   }
  },
  {
   "cell_type": "code",
   "execution_count": 25,
   "outputs": [
    {
     "name": "stdout",
     "output_type": "stream",
     "text": [
      "     pcost       dcost       gap    pres   dres\n",
      " 0:  1.7435e-04 -1.0011e+00  1e+00  2e-16  5e+00\n",
      " 1:  1.7363e-04 -1.1077e-02  1e-02  3e-17  5e-02\n",
      " 2:  1.3005e-04 -9.5854e-04  1e-03  4e-17  5e-03\n",
      " 3:  3.3744e-05 -2.3401e-04  3e-04  4e-17  1e-18\n",
      " 4:  2.3140e-05 -3.0092e-05  5e-05  2e-16  5e-19\n",
      " 5:  1.6677e-05  1.0319e-05  6e-06  2e-16  5e-19\n",
      " 6:  1.5609e-05  1.5088e-05  5e-07  5e-17  4e-19\n",
      " 7:  1.5432e-05  1.5386e-05  5e-08  1e-16  4e-19\n",
      "Optimal solution found.\n",
      "     pcost       dcost       gap    pres   dres\n",
      " 0: -8.8809e-02 -1.0874e+00  3e+01  5e+00  5e+00\n",
      " 1:  1.8123e-02 -1.0023e+00  1e+00  9e-16  2e-15\n",
      " 2:  1.1381e-02 -9.6151e-02  1e-01  2e-16  1e-15\n",
      " 3: -6.7608e-02 -1.5366e-01  9e-02  3e-16  5e-16\n",
      " 4: -7.9754e-02 -8.2861e-02  3e-03  3e-18  2e-16\n",
      " 5: -8.1973e-02 -8.2054e-02  8e-05  2e-16  3e-16\n",
      " 6: -8.2022e-02 -8.2027e-02  5e-06  2e-16  2e-16\n",
      " 7: -8.2023e-02 -8.2024e-02  3e-07  2e-16  1e-16\n",
      " 8: -8.2023e-02 -8.2023e-02  3e-09  2e-16  2e-16\n",
      "Optimal solution found.\n",
      "     pcost       dcost       gap    pres   dres\n",
      " 0: -4.0904e-01 -1.1757e+00  4e+01  7e+00  6e+00\n",
      " 1:  2.5515e-02 -1.0984e+00  1e+00  2e-15  2e-15\n",
      " 2:  6.5340e-03 -1.8334e-01  2e-01  3e-16  1e-15\n",
      " 3: -8.1640e-02 -2.4919e-01  2e-01  3e-16  5e-16\n",
      " 4: -1.5958e-01 -1.7056e-01  1e-02  4e-16  4e-16\n",
      " 5: -1.6965e-01 -1.6976e-01  1e-04  2e-16  3e-16\n",
      " 6: -1.6975e-01 -1.6975e-01  1e-06  2e-16  3e-16\n",
      " 7: -1.6975e-01 -1.6975e-01  1e-08  3e-16  4e-16\n",
      "Optimal solution found.\n",
      "     pcost       dcost       gap    pres   dres\n",
      " 0: -9.6128e-01 -1.2642e+00  5e+01  8e+00  6e+00\n",
      " 1:  2.7110e-02 -1.1923e+00  1e+00  8e-15  2e-15\n",
      " 2: -7.4892e-03 -2.7052e-01  3e-01  1e-15  1e-15\n",
      " 3: -1.0455e-01 -3.3750e-01  2e-01  9e-16  6e-16\n",
      " 4: -2.5219e-01 -2.6577e-01  1e-02  3e-16  4e-16\n",
      " 5: -2.5741e-01 -2.5757e-01  2e-04  2e-16  7e-16\n",
      " 6: -2.5748e-01 -2.5749e-01  2e-06  1e-16  4e-16\n",
      " 7: -2.5748e-01 -2.5748e-01  2e-08  8e-23  6e-16\n",
      "Optimal solution found.\n",
      "     pcost       dcost       gap    pres   dres\n",
      " 0: -1.7463e+00 -1.3529e+00  6e+01  9e+00  5e+00\n",
      " 1:  2.4774e-02 -1.2846e+00  1e+00  1e-15  2e-15\n",
      " 2: -2.8829e-02 -3.5769e-01  3e-01  3e-16  1e-15\n",
      " 3: -1.4683e-01 -4.3021e-01  3e-01  3e-16  6e-16\n",
      " 4: -3.4069e-01 -3.6005e-01  2e-02  3e-16  7e-16\n",
      " 5: -3.4514e-01 -3.4537e-01  2e-04  7e-19  8e-16\n",
      " 6: -3.4522e-01 -3.4522e-01  2e-06  1e-16  6e-16\n",
      " 7: -3.4522e-01 -3.4522e-01  2e-08  1e-16  6e-16\n",
      "Optimal solution found.\n",
      "     pcost       dcost       gap    pres   dres\n",
      " 0: -2.7650e+00 -1.4413e+00  7e+01  1e+01  4e+00\n",
      " 1:  1.9425e-02 -1.3759e+00  1e+00  1e-14  8e-16\n",
      " 2: -5.6641e-02 -4.4488e-01  4e-01  3e-15  7e-16\n",
      " 3: -2.0176e-01 -5.2210e-01  3e-01  2e-15  6e-16\n",
      " 4: -4.2858e-01 -4.4960e-01  2e-02  2e-16  6e-16\n",
      " 5: -4.3288e-01 -4.3312e-01  2e-04  4e-16  6e-16\n",
      " 6: -4.3295e-01 -4.3295e-01  2e-06  1e-16  4e-16\n",
      " 7: -4.3295e-01 -4.3295e-01  2e-08  3e-16  4e-16\n",
      "Optimal solution found.\n",
      "     pcost       dcost       gap    pres   dres\n",
      " 0: -4.0180e+00 -1.5294e+00  9e+01  1e+01  4e+00\n",
      " 1:  5.4132e-03 -1.4664e+00  2e+00  2e-02  5e-03\n",
      " 2: -8.3924e-02 -5.3210e-01  5e-01  5e-03  2e-03\n",
      " 3: -2.5987e-01 -6.1587e-01  4e-01  3e-03  9e-04\n",
      " 4: -5.1615e-01 -5.3687e-01  2e-02  4e-05  1e-05\n",
      " 5: -5.2062e-01 -5.2084e-01  2e-04  5e-07  1e-07\n",
      " 6: -5.2068e-01 -5.2068e-01  2e-06  5e-09  1e-09\n",
      " 7: -5.2068e-01 -5.2068e-01  2e-08  5e-11  1e-11\n",
      "Optimal solution found.\n",
      "     pcost       dcost       gap    pres   dres\n",
      " 0: -5.5063e+00 -1.6167e+00  1e+02  1e+01  3e+00\n",
      " 1: -1.3777e-02 -1.5564e+00  2e+00  4e-02  9e-03\n",
      " 2: -1.1502e-01 -6.1934e-01  5e-01  1e-02  3e-03\n",
      " 3: -3.2418e-01 -7.0902e-01  4e-01  6e-03  1e-03\n",
      " 4: -6.0384e-01 -6.2317e-01  2e-02  8e-05  2e-05\n",
      " 5: -6.0836e-01 -6.0856e-01  2e-04  8e-07  2e-07\n",
      " 6: -6.0841e-01 -6.0842e-01  2e-06  8e-09  2e-09\n",
      " 7: -6.0842e-01 -6.0842e-01  2e-08  8e-11  2e-11\n",
      "Optimal solution found.\n",
      "     pcost       dcost       gap    pres   dres\n",
      " 0: -7.2306e+00 -1.7030e+00  1e+02  1e+01  3e+00\n",
      " 1: -3.7441e-02 -1.6459e+00  2e+00  5e-02  1e-02\n",
      " 2: -1.4999e-01 -7.0659e-01  6e-01  2e-02  3e-03\n",
      " 3: -3.9393e-01 -8.0123e-01  4e-01  8e-03  2e-03\n",
      " 4: -6.9159e-01 -7.0919e-01  2e-02  1e-04  2e-05\n",
      " 5: -6.9610e-01 -6.9628e-01  2e-04  1e-06  2e-07\n",
      " 6: -6.9615e-01 -6.9615e-01  2e-06  1e-08  2e-09\n",
      " 7: -6.9615e-01 -6.9615e-01  2e-08  1e-10  2e-11\n",
      "Optimal solution found.\n",
      "     pcost       dcost       gap    pres   dres\n",
      " 0: -9.1918e+00 -1.7881e+00  1e+02  2e+01  3e+00\n",
      " 1: -6.5399e-02 -1.7350e+00  2e+00  7e-02  1e-02\n",
      " 2: -1.8847e-01 -7.9386e-01  7e-01  2e-02  4e-03\n",
      " 3: -4.6801e-01 -8.9254e-01  5e-01  9e-03  2e-03\n",
      " 4: -7.7936e-01 -7.9528e-01  2e-02  1e-04  2e-05\n",
      " 5: -7.8383e-01 -7.8399e-01  2e-04  1e-06  2e-07\n",
      " 6: -7.8388e-01 -7.8388e-01  2e-06  1e-08  2e-09\n",
      " 7: -7.8388e-01 -7.8388e-01  2e-08  1e-10  2e-11\n",
      "Optimal solution found.\n",
      "     pcost       dcost       gap    pres   dres\n",
      " 0: -1.1391e+01 -1.8716e+00  2e+02  2e+01  3e+00\n",
      " 1: -9.7531e-02 -1.8237e+00  3e+00  9e-02  1e-02\n",
      " 2: -2.3020e-01 -8.8113e-01  8e-01  3e-02  4e-03\n",
      " 3: -5.4541e-01 -9.8301e-01  5e-01  1e-02  2e-03\n",
      " 4: -8.6718e-01 -8.8155e-01  2e-02  1e-04  2e-05\n",
      " 5: -8.7157e-01 -8.7171e-01  2e-04  1e-06  2e-07\n",
      " 6: -8.7161e-01 -8.7161e-01  2e-06  1e-08  2e-09\n",
      " 7: -8.7161e-01 -8.7161e-01  2e-08  1e-10  2e-11\n",
      "Optimal solution found.\n"
     ]
    },
    {
     "data": {
      "text/plain": "<Figure size 1000x600 with 1 Axes>",
      "image/png": "[encoded data removed]"
     },
     "metadata": {},
     "output_type": "display_data"
    }
   ],
   "source": [
    "def calculate_risk(weights, covariance_matrix):\n",
    "    \"\"\"\n",
    "    Calculate the risk of a portfolio.\n",
    "\n",
    "    Parameters:\n",
    "        - weights (array): Portfolio weights.\n",
    "        - covariance_matrix (array): Covariance matrix.\n",
    "\n",
    "    Returns:\n",
    "        - float: Portfolio risk.\n",
    "    \"\"\"\n",
    "    s= 0\n",
    "    for i, w1 in enumerate(weights):\n",
    "        for j, w2 in enumerate(weights):\n",
    "            s += w1*w2*covariance_matrix[i,j]\n",
    "    risk = np.dot(weights.T, np.dot(covariance_matrix, weights))\n",
    "    return s\n",
    "    # return np.sqrt(risk)\n",
    "\n",
    "def plot_portfolio_risk_return(expected_returns, covariance_matrix, k_values):\n",
    "\n",
    "    optimal_weights_list, portfolio_return_list = optimize_portfolio_k(expected_returns, covariance_matrix, k_values)\n",
    "\n",
    "    risks = []\n",
    "    for weights in optimal_weights_list:\n",
    "        risk = calculate_risk(weights, covariance_matrix)\n",
    "        risks.append(risk)\n",
    "\n",
    "    plt.figure(figsize=(10, 6))\n",
    "    plt.scatter(portfolio_return_list, risks, marker='o', color='b')\n",
    "\n",
    "    # for i, (k1, k2) in enumerate(k_values):\n",
    "    #     plt.text(portfolio_return_list[i], risks[i], f\"k1={k1:.2f}, k2={k2:.2f}\")\n",
    "\n",
    "    plt.xlabel('Portfolio Return')\n",
    "    plt.ylabel('Portfolio Risk (Standard Deviation)')\n",
    "    plt.title('Portfolio Return vs. Risk')\n",
    "    plt.grid(True)\n",
    "    plt.show()\n",
    "\n",
    "# Example usage\n",
    "# Define expected_returns and covariance_matrix here...\n",
    "\n",
    "# Generate k values\n",
    "k_values = generate_k_values(n=10)\n",
    "\n",
    "# Plot portfolio risk vs. return\n",
    "plot_portfolio_risk_return(expected_returns, covariance_matrix, k_values)\n"
   ],
   "metadata": {
    "collapsed": false,
    "ExecuteTime": {
     "end_time": "2024-02-27T19:24:38.066153400Z",
     "start_time": "2024-02-27T19:24:37.734282500Z"
    }
   }
  }
 ],
 "metadata": {
  "kernelspec": {
   "display_name": "Python 3 (ipykernel)",
   "language": "python",
   "name": "python3"
  },
  "language_info": {
   "codemirror_mode": {
    "name": "ipython",
    "version": 3
   },
   "file_extension": ".py",
   "mimetype": "text/x-python",
   "name": "python",
   "nbconvert_exporter": "python",
   "pygments_lexer": "ipython3",
   "version": "3.9.7"
  }
 },
 "nbformat": 4,
 "nbformat_minor": 5
}
